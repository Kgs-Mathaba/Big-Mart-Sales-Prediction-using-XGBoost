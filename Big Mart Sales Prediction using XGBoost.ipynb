{
 "cells": [
  {
   "cell_type": "markdown",
   "metadata": {},
   "source": [
    "# import dependencies"
   ]
  },
  {
   "cell_type": "code",
   "execution_count": 1,
   "metadata": {},
   "outputs": [
    {
     "name": "stderr",
     "output_type": "stream",
     "text": [
      "/home/nthabiseng/.local/lib/python3.5/site-packages/xgboost/__init__.py:29: FutureWarning: Python 3.5 support is deprecated; XGBoost will require Python 3.6+ in the near future. Consider upgrading to Python 3.6+.\n",
      "  FutureWarning)\n"
     ]
    }
   ],
   "source": [
    "import numpy as np # linear algebra\n",
    "import pandas as pd # data processing, CSV file I/O (e.g. pd.read_csv)\n",
    "import seaborn as sns\n",
    "import matplotlib.pyplot as plt\n",
    "from sklearn.preprocessing import LabelEncoder\n",
    "from sklearn.model_selection import train_test_split\n",
    "from xgboost import XGBRegressor\n",
    "from sklearn import metrics\n",
    "%matplotlib inline"
   ]
  },
  {
   "cell_type": "markdown",
   "metadata": {},
   "source": [
    "## Data collection and analysis"
   ]
  },
  {
   "cell_type": "code",
   "execution_count": 2,
   "metadata": {},
   "outputs": [],
   "source": [
    "# load dataset\n",
    "big_mart_data = pd.read_csv('Big_Mart_Train.csv')"
   ]
  },
  {
   "cell_type": "code",
   "execution_count": 3,
   "metadata": {},
   "outputs": [
    {
     "data": {
      "text/html": [
       "<div>\n",
       "<style scoped>\n",
       "    .dataframe tbody tr th:only-of-type {\n",
       "        vertical-align: middle;\n",
       "    }\n",
       "\n",
       "    .dataframe tbody tr th {\n",
       "        vertical-align: top;\n",
       "    }\n",
       "\n",
       "    .dataframe thead th {\n",
       "        text-align: right;\n",
       "    }\n",
       "</style>\n",
       "<table border=\"1\" class=\"dataframe\">\n",
       "  <thead>\n",
       "    <tr style=\"text-align: right;\">\n",
       "      <th></th>\n",
       "      <th>Item_Identifier</th>\n",
       "      <th>Item_Weight</th>\n",
       "      <th>Item_Fat_Content</th>\n",
       "      <th>Item_Visibility</th>\n",
       "      <th>Item_Type</th>\n",
       "      <th>Item_MRP</th>\n",
       "      <th>Outlet_Identifier</th>\n",
       "      <th>Outlet_Establishment_Year</th>\n",
       "      <th>Outlet_Size</th>\n",
       "      <th>Outlet_Location_Type</th>\n",
       "      <th>Outlet_Type</th>\n",
       "      <th>Item_Outlet_Sales</th>\n",
       "    </tr>\n",
       "  </thead>\n",
       "  <tbody>\n",
       "    <tr>\n",
       "      <th>0</th>\n",
       "      <td>FDA15</td>\n",
       "      <td>9.300</td>\n",
       "      <td>Low Fat</td>\n",
       "      <td>0.016047</td>\n",
       "      <td>Dairy</td>\n",
       "      <td>249.8092</td>\n",
       "      <td>OUT049</td>\n",
       "      <td>1999</td>\n",
       "      <td>Medium</td>\n",
       "      <td>Tier 1</td>\n",
       "      <td>Supermarket Type1</td>\n",
       "      <td>3735.1380</td>\n",
       "    </tr>\n",
       "    <tr>\n",
       "      <th>1</th>\n",
       "      <td>DRC01</td>\n",
       "      <td>5.920</td>\n",
       "      <td>Regular</td>\n",
       "      <td>0.019278</td>\n",
       "      <td>Soft Drinks</td>\n",
       "      <td>48.2692</td>\n",
       "      <td>OUT018</td>\n",
       "      <td>2009</td>\n",
       "      <td>Medium</td>\n",
       "      <td>Tier 3</td>\n",
       "      <td>Supermarket Type2</td>\n",
       "      <td>443.4228</td>\n",
       "    </tr>\n",
       "    <tr>\n",
       "      <th>2</th>\n",
       "      <td>FDN15</td>\n",
       "      <td>17.500</td>\n",
       "      <td>Low Fat</td>\n",
       "      <td>0.016760</td>\n",
       "      <td>Meat</td>\n",
       "      <td>141.6180</td>\n",
       "      <td>OUT049</td>\n",
       "      <td>1999</td>\n",
       "      <td>Medium</td>\n",
       "      <td>Tier 1</td>\n",
       "      <td>Supermarket Type1</td>\n",
       "      <td>2097.2700</td>\n",
       "    </tr>\n",
       "    <tr>\n",
       "      <th>3</th>\n",
       "      <td>FDX07</td>\n",
       "      <td>19.200</td>\n",
       "      <td>Regular</td>\n",
       "      <td>0.000000</td>\n",
       "      <td>Fruits and Vegetables</td>\n",
       "      <td>182.0950</td>\n",
       "      <td>OUT010</td>\n",
       "      <td>1998</td>\n",
       "      <td>NaN</td>\n",
       "      <td>Tier 3</td>\n",
       "      <td>Grocery Store</td>\n",
       "      <td>732.3800</td>\n",
       "    </tr>\n",
       "    <tr>\n",
       "      <th>4</th>\n",
       "      <td>NCD19</td>\n",
       "      <td>8.930</td>\n",
       "      <td>Low Fat</td>\n",
       "      <td>0.000000</td>\n",
       "      <td>Household</td>\n",
       "      <td>53.8614</td>\n",
       "      <td>OUT013</td>\n",
       "      <td>1987</td>\n",
       "      <td>High</td>\n",
       "      <td>Tier 3</td>\n",
       "      <td>Supermarket Type1</td>\n",
       "      <td>994.7052</td>\n",
       "    </tr>\n",
       "    <tr>\n",
       "      <th>5</th>\n",
       "      <td>FDP36</td>\n",
       "      <td>10.395</td>\n",
       "      <td>Regular</td>\n",
       "      <td>0.000000</td>\n",
       "      <td>Baking Goods</td>\n",
       "      <td>51.4008</td>\n",
       "      <td>OUT018</td>\n",
       "      <td>2009</td>\n",
       "      <td>Medium</td>\n",
       "      <td>Tier 3</td>\n",
       "      <td>Supermarket Type2</td>\n",
       "      <td>556.6088</td>\n",
       "    </tr>\n",
       "    <tr>\n",
       "      <th>6</th>\n",
       "      <td>FDO10</td>\n",
       "      <td>13.650</td>\n",
       "      <td>Regular</td>\n",
       "      <td>0.012741</td>\n",
       "      <td>Snack Foods</td>\n",
       "      <td>57.6588</td>\n",
       "      <td>OUT013</td>\n",
       "      <td>1987</td>\n",
       "      <td>High</td>\n",
       "      <td>Tier 3</td>\n",
       "      <td>Supermarket Type1</td>\n",
       "      <td>343.5528</td>\n",
       "    </tr>\n",
       "    <tr>\n",
       "      <th>7</th>\n",
       "      <td>FDP10</td>\n",
       "      <td>NaN</td>\n",
       "      <td>Low Fat</td>\n",
       "      <td>0.127470</td>\n",
       "      <td>Snack Foods</td>\n",
       "      <td>107.7622</td>\n",
       "      <td>OUT027</td>\n",
       "      <td>1985</td>\n",
       "      <td>Medium</td>\n",
       "      <td>Tier 3</td>\n",
       "      <td>Supermarket Type3</td>\n",
       "      <td>4022.7636</td>\n",
       "    </tr>\n",
       "    <tr>\n",
       "      <th>8</th>\n",
       "      <td>FDH17</td>\n",
       "      <td>16.200</td>\n",
       "      <td>Regular</td>\n",
       "      <td>0.016687</td>\n",
       "      <td>Frozen Foods</td>\n",
       "      <td>96.9726</td>\n",
       "      <td>OUT045</td>\n",
       "      <td>2002</td>\n",
       "      <td>NaN</td>\n",
       "      <td>Tier 2</td>\n",
       "      <td>Supermarket Type1</td>\n",
       "      <td>1076.5986</td>\n",
       "    </tr>\n",
       "    <tr>\n",
       "      <th>9</th>\n",
       "      <td>FDU28</td>\n",
       "      <td>19.200</td>\n",
       "      <td>Regular</td>\n",
       "      <td>0.094450</td>\n",
       "      <td>Frozen Foods</td>\n",
       "      <td>187.8214</td>\n",
       "      <td>OUT017</td>\n",
       "      <td>2007</td>\n",
       "      <td>NaN</td>\n",
       "      <td>Tier 2</td>\n",
       "      <td>Supermarket Type1</td>\n",
       "      <td>4710.5350</td>\n",
       "    </tr>\n",
       "  </tbody>\n",
       "</table>\n",
       "</div>"
      ],
      "text/plain": [
       "  Item_Identifier  Item_Weight Item_Fat_Content  Item_Visibility  \\\n",
       "0           FDA15        9.300          Low Fat         0.016047   \n",
       "1           DRC01        5.920          Regular         0.019278   \n",
       "2           FDN15       17.500          Low Fat         0.016760   \n",
       "3           FDX07       19.200          Regular         0.000000   \n",
       "4           NCD19        8.930          Low Fat         0.000000   \n",
       "5           FDP36       10.395          Regular         0.000000   \n",
       "6           FDO10       13.650          Regular         0.012741   \n",
       "7           FDP10          NaN          Low Fat         0.127470   \n",
       "8           FDH17       16.200          Regular         0.016687   \n",
       "9           FDU28       19.200          Regular         0.094450   \n",
       "\n",
       "               Item_Type  Item_MRP Outlet_Identifier  \\\n",
       "0                  Dairy  249.8092            OUT049   \n",
       "1            Soft Drinks   48.2692            OUT018   \n",
       "2                   Meat  141.6180            OUT049   \n",
       "3  Fruits and Vegetables  182.0950            OUT010   \n",
       "4              Household   53.8614            OUT013   \n",
       "5           Baking Goods   51.4008            OUT018   \n",
       "6            Snack Foods   57.6588            OUT013   \n",
       "7            Snack Foods  107.7622            OUT027   \n",
       "8           Frozen Foods   96.9726            OUT045   \n",
       "9           Frozen Foods  187.8214            OUT017   \n",
       "\n",
       "   Outlet_Establishment_Year Outlet_Size Outlet_Location_Type  \\\n",
       "0                       1999      Medium               Tier 1   \n",
       "1                       2009      Medium               Tier 3   \n",
       "2                       1999      Medium               Tier 1   \n",
       "3                       1998         NaN               Tier 3   \n",
       "4                       1987        High               Tier 3   \n",
       "5                       2009      Medium               Tier 3   \n",
       "6                       1987        High               Tier 3   \n",
       "7                       1985      Medium               Tier 3   \n",
       "8                       2002         NaN               Tier 2   \n",
       "9                       2007         NaN               Tier 2   \n",
       "\n",
       "         Outlet_Type  Item_Outlet_Sales  \n",
       "0  Supermarket Type1          3735.1380  \n",
       "1  Supermarket Type2           443.4228  \n",
       "2  Supermarket Type1          2097.2700  \n",
       "3      Grocery Store           732.3800  \n",
       "4  Supermarket Type1           994.7052  \n",
       "5  Supermarket Type2           556.6088  \n",
       "6  Supermarket Type1           343.5528  \n",
       "7  Supermarket Type3          4022.7636  \n",
       "8  Supermarket Type1          1076.5986  \n",
       "9  Supermarket Type1          4710.5350  "
      ]
     },
     "execution_count": 3,
     "metadata": {},
     "output_type": "execute_result"
    }
   ],
   "source": [
    "# first 10 rows of dataset\n",
    "big_mart_data.head(10)"
   ]
  },
  {
   "cell_type": "code",
   "execution_count": 4,
   "metadata": {},
   "outputs": [
    {
     "data": {
      "text/plain": [
       "(8523, 12)"
      ]
     },
     "execution_count": 4,
     "metadata": {},
     "output_type": "execute_result"
    }
   ],
   "source": [
    "#number of data points(rows) and number of features(columns)\n",
    "big_mart_data.shape"
   ]
  },
  {
   "cell_type": "code",
   "execution_count": 5,
   "metadata": {},
   "outputs": [
    {
     "name": "stdout",
     "output_type": "stream",
     "text": [
      "<class 'pandas.core.frame.DataFrame'>\n",
      "RangeIndex: 8523 entries, 0 to 8522\n",
      "Data columns (total 12 columns):\n",
      "Item_Identifier              8523 non-null object\n",
      "Item_Weight                  7060 non-null float64\n",
      "Item_Fat_Content             8523 non-null object\n",
      "Item_Visibility              8523 non-null float64\n",
      "Item_Type                    8523 non-null object\n",
      "Item_MRP                     8523 non-null float64\n",
      "Outlet_Identifier            8523 non-null object\n",
      "Outlet_Establishment_Year    8523 non-null int64\n",
      "Outlet_Size                  6113 non-null object\n",
      "Outlet_Location_Type         8523 non-null object\n",
      "Outlet_Type                  8523 non-null object\n",
      "Item_Outlet_Sales            8523 non-null float64\n",
      "dtypes: float64(4), int64(1), object(7)\n",
      "memory usage: 799.1+ KB\n"
     ]
    }
   ],
   "source": [
    "# soOutlet_Sizeme information about the dataset\n",
    "big_mart_data.info()"
   ]
  },
  {
   "cell_type": "markdown",
   "metadata": {},
   "source": [
    "## Categorical features\n",
    "\n",
    "- Item_Indentifier\n",
    "- Item_Fat_Content\n",
    "- Item_type\n",
    "- Outlet_Size\n",
    "- Outlet_Location_type\n",
    "- Outlet_type"
   ]
  },
  {
   "cell_type": "code",
   "execution_count": 6,
   "metadata": {},
   "outputs": [
    {
     "data": {
      "text/plain": [
       "Item_Identifier                 0\n",
       "Item_Weight                  1463\n",
       "Item_Fat_Content                0\n",
       "Item_Visibility                 0\n",
       "Item_Type                       0\n",
       "Item_MRP                        0\n",
       "Outlet_Identifier               0\n",
       "Outlet_Establishment_Year       0\n",
       "Outlet_Size                  2410\n",
       "Outlet_Location_Type            0\n",
       "Outlet_Type                     0\n",
       "Item_Outlet_Sales               0\n",
       "dtype: int64"
      ]
     },
     "execution_count": 6,
     "metadata": {},
     "output_type": "execute_result"
    }
   ],
   "source": [
    "# check for missing values\n",
    "big_mart_data.isnull().sum()"
   ]
  },
  {
   "cell_type": "markdown",
   "metadata": {},
   "source": [
    "## Handling missing values\n",
    "\n",
    "Mean --> average value\n",
    "\n",
    "Mode --> most repeated number"
   ]
  },
  {
   "cell_type": "code",
   "execution_count": 7,
   "metadata": {},
   "outputs": [
    {
     "data": {
      "text/plain": [
       "12.857645184135976"
      ]
     },
     "execution_count": 7,
     "metadata": {},
     "output_type": "execute_result"
    }
   ],
   "source": [
    "# mean value of \"Item_Weight\" column\n",
    "big_mart_data['Item_Weight'].mean()"
   ]
  },
  {
   "cell_type": "code",
   "execution_count": 8,
   "metadata": {},
   "outputs": [],
   "source": [
    "# fill missing values in \"Item_Weight\" column with \"Mean\" value\n",
    "big_mart_data[\"Item_Weight\"].fillna(big_mart_data['Item_Weight'].mean(), inplace = True)"
   ]
  },
  {
   "cell_type": "code",
   "execution_count": 9,
   "metadata": {},
   "outputs": [
    {
     "data": {
      "text/plain": [
       "Item_Identifier                 0\n",
       "Item_Weight                     0\n",
       "Item_Fat_Content                0\n",
       "Item_Visibility                 0\n",
       "Item_Type                       0\n",
       "Item_MRP                        0\n",
       "Outlet_Identifier               0\n",
       "Outlet_Establishment_Year       0\n",
       "Outlet_Size                  2410\n",
       "Outlet_Location_Type            0\n",
       "Outlet_Type                     0\n",
       "Item_Outlet_Sales               0\n",
       "dtype: int64"
      ]
     },
     "execution_count": 9,
     "metadata": {},
     "output_type": "execute_result"
    }
   ],
   "source": [
    "big_mart_data.isnull().sum()"
   ]
  },
  {
   "cell_type": "markdown",
   "metadata": {},
   "source": [
    "## Replace missing values in \"Outlet_Size\" with Mode"
   ]
  },
  {
   "cell_type": "code",
   "execution_count": 10,
   "metadata": {},
   "outputs": [],
   "source": [
    "# use pivot table to replace missing values in outlet size by checking the outlet type and replacing with the mode accordingly\n",
    "mode_of_outlet_size = big_mart_data.pivot_table(values='Outlet_Size', columns = 'Outlet_Type', aggfunc=(lambda x: x.mode()[0] ))"
   ]
  },
  {
   "cell_type": "code",
   "execution_count": 11,
   "metadata": {},
   "outputs": [
    {
     "name": "stdout",
     "output_type": "stream",
     "text": [
      "Outlet_Type Grocery Store Supermarket Type1 Supermarket Type2  \\\n",
      "Outlet_Size         Small             Small            Medium   \n",
      "\n",
      "Outlet_Type Supermarket Type3  \n",
      "Outlet_Size            Medium  \n"
     ]
    }
   ],
   "source": [
    "print(mode_of_outlet_size)"
   ]
  },
  {
   "cell_type": "code",
   "execution_count": 12,
   "metadata": {},
   "outputs": [],
   "source": [
    "missing_values = big_mart_data['Outlet_Size'].isnull()"
   ]
  },
  {
   "cell_type": "code",
   "execution_count": 13,
   "metadata": {},
   "outputs": [
    {
     "data": {
      "text/plain": [
       "0       False\n",
       "1       False\n",
       "2       False\n",
       "3        True\n",
       "4       False\n",
       "5       False\n",
       "6       False\n",
       "7       False\n",
       "8        True\n",
       "9        True\n",
       "10      False\n",
       "11      False\n",
       "12      False\n",
       "13      False\n",
       "14      False\n",
       "15      False\n",
       "16      False\n",
       "17      False\n",
       "18      False\n",
       "19      False\n",
       "20      False\n",
       "21      False\n",
       "22      False\n",
       "23      False\n",
       "24      False\n",
       "25       True\n",
       "26      False\n",
       "27      False\n",
       "28       True\n",
       "29      False\n",
       "        ...  \n",
       "8493     True\n",
       "8494     True\n",
       "8495    False\n",
       "8496     True\n",
       "8497    False\n",
       "8498    False\n",
       "8499    False\n",
       "8500     True\n",
       "8501     True\n",
       "8502     True\n",
       "8503    False\n",
       "8504    False\n",
       "8505    False\n",
       "8506    False\n",
       "8507    False\n",
       "8508     True\n",
       "8509     True\n",
       "8510    False\n",
       "8511    False\n",
       "8512    False\n",
       "8513    False\n",
       "8514     True\n",
       "8515    False\n",
       "8516    False\n",
       "8517    False\n",
       "8518    False\n",
       "8519     True\n",
       "8520    False\n",
       "8521    False\n",
       "8522    False\n",
       "Name: Outlet_Size, Length: 8523, dtype: bool"
      ]
     },
     "execution_count": 13,
     "metadata": {},
     "output_type": "execute_result"
    }
   ],
   "source": [
    "missing_values"
   ]
  },
  {
   "cell_type": "code",
   "execution_count": 14,
   "metadata": {},
   "outputs": [],
   "source": [
    "big_mart_data.loc[missing_values, 'Outlet_Size'] = big_mart_data.loc[missing_values, 'Outlet_Type'].apply(lambda x: mode_of_outlet_size)"
   ]
  },
  {
   "cell_type": "code",
   "execution_count": 15,
   "metadata": {},
   "outputs": [
    {
     "data": {
      "text/plain": [
       "Item_Identifier              0\n",
       "Item_Weight                  0\n",
       "Item_Fat_Content             0\n",
       "Item_Visibility              0\n",
       "Item_Type                    0\n",
       "Item_MRP                     0\n",
       "Outlet_Identifier            0\n",
       "Outlet_Establishment_Year    0\n",
       "Outlet_Size                  0\n",
       "Outlet_Location_Type         0\n",
       "Outlet_Type                  0\n",
       "Item_Outlet_Sales            0\n",
       "dtype: int64"
      ]
     },
     "execution_count": 15,
     "metadata": {},
     "output_type": "execute_result"
    }
   ],
   "source": [
    "big_mart_data.isnull().sum()"
   ]
  },
  {
   "cell_type": "markdown",
   "metadata": {},
   "source": [
    "# Data Analysis"
   ]
  },
  {
   "cell_type": "code",
   "execution_count": 16,
   "metadata": {},
   "outputs": [
    {
     "data": {
      "text/html": [
       "<div>\n",
       "<style scoped>\n",
       "    .dataframe tbody tr th:only-of-type {\n",
       "        vertical-align: middle;\n",
       "    }\n",
       "\n",
       "    .dataframe tbody tr th {\n",
       "        vertical-align: top;\n",
       "    }\n",
       "\n",
       "    .dataframe thead th {\n",
       "        text-align: right;\n",
       "    }\n",
       "</style>\n",
       "<table border=\"1\" class=\"dataframe\">\n",
       "  <thead>\n",
       "    <tr style=\"text-align: right;\">\n",
       "      <th></th>\n",
       "      <th>Item_Weight</th>\n",
       "      <th>Item_Visibility</th>\n",
       "      <th>Item_MRP</th>\n",
       "      <th>Outlet_Establishment_Year</th>\n",
       "      <th>Item_Outlet_Sales</th>\n",
       "    </tr>\n",
       "  </thead>\n",
       "  <tbody>\n",
       "    <tr>\n",
       "      <th>count</th>\n",
       "      <td>8523.000000</td>\n",
       "      <td>8523.000000</td>\n",
       "      <td>8523.000000</td>\n",
       "      <td>8523.000000</td>\n",
       "      <td>8523.000000</td>\n",
       "    </tr>\n",
       "    <tr>\n",
       "      <th>mean</th>\n",
       "      <td>12.857645</td>\n",
       "      <td>0.066132</td>\n",
       "      <td>140.992782</td>\n",
       "      <td>1997.831867</td>\n",
       "      <td>2181.288914</td>\n",
       "    </tr>\n",
       "    <tr>\n",
       "      <th>std</th>\n",
       "      <td>4.226124</td>\n",
       "      <td>0.051598</td>\n",
       "      <td>62.275067</td>\n",
       "      <td>8.371760</td>\n",
       "      <td>1706.499616</td>\n",
       "    </tr>\n",
       "    <tr>\n",
       "      <th>min</th>\n",
       "      <td>4.555000</td>\n",
       "      <td>0.000000</td>\n",
       "      <td>31.290000</td>\n",
       "      <td>1985.000000</td>\n",
       "      <td>33.290000</td>\n",
       "    </tr>\n",
       "    <tr>\n",
       "      <th>25%</th>\n",
       "      <td>9.310000</td>\n",
       "      <td>0.026989</td>\n",
       "      <td>93.826500</td>\n",
       "      <td>1987.000000</td>\n",
       "      <td>834.247400</td>\n",
       "    </tr>\n",
       "    <tr>\n",
       "      <th>50%</th>\n",
       "      <td>12.857645</td>\n",
       "      <td>0.053931</td>\n",
       "      <td>143.012800</td>\n",
       "      <td>1999.000000</td>\n",
       "      <td>1794.331000</td>\n",
       "    </tr>\n",
       "    <tr>\n",
       "      <th>75%</th>\n",
       "      <td>16.000000</td>\n",
       "      <td>0.094585</td>\n",
       "      <td>185.643700</td>\n",
       "      <td>2004.000000</td>\n",
       "      <td>3101.296400</td>\n",
       "    </tr>\n",
       "    <tr>\n",
       "      <th>max</th>\n",
       "      <td>21.350000</td>\n",
       "      <td>0.328391</td>\n",
       "      <td>266.888400</td>\n",
       "      <td>2009.000000</td>\n",
       "      <td>13086.964800</td>\n",
       "    </tr>\n",
       "  </tbody>\n",
       "</table>\n",
       "</div>"
      ],
      "text/plain": [
       "       Item_Weight  Item_Visibility     Item_MRP  Outlet_Establishment_Year  \\\n",
       "count  8523.000000      8523.000000  8523.000000                8523.000000   \n",
       "mean     12.857645         0.066132   140.992782                1997.831867   \n",
       "std       4.226124         0.051598    62.275067                   8.371760   \n",
       "min       4.555000         0.000000    31.290000                1985.000000   \n",
       "25%       9.310000         0.026989    93.826500                1987.000000   \n",
       "50%      12.857645         0.053931   143.012800                1999.000000   \n",
       "75%      16.000000         0.094585   185.643700                2004.000000   \n",
       "max      21.350000         0.328391   266.888400                2009.000000   \n",
       "\n",
       "       Item_Outlet_Sales  \n",
       "count        8523.000000  \n",
       "mean         2181.288914  \n",
       "std          1706.499616  \n",
       "min            33.290000  \n",
       "25%           834.247400  \n",
       "50%          1794.331000  \n",
       "75%          3101.296400  \n",
       "max         13086.964800  "
      ]
     },
     "execution_count": 16,
     "metadata": {},
     "output_type": "execute_result"
    }
   ],
   "source": [
    "# statistical measures about the data\n",
    "big_mart_data.describe()"
   ]
  },
  {
   "cell_type": "markdown",
   "metadata": {},
   "source": [
    "## Numerical features"
   ]
  },
  {
   "cell_type": "code",
   "execution_count": 17,
   "metadata": {},
   "outputs": [],
   "source": [
    "sns.set()"
   ]
  },
  {
   "cell_type": "code",
   "execution_count": 18,
   "metadata": {},
   "outputs": [
    {
     "name": "stderr",
     "output_type": "stream",
     "text": [
      "/home/nthabiseng/.local/lib/python3.5/site-packages/scipy/stats/stats.py:1713: FutureWarning: Using a non-tuple sequence for multidimensional indexing is deprecated; use `arr[tuple(seq)]` instead of `arr[seq]`. In the future this will be interpreted as an array index, `arr[np.array(seq)]`, which will result either in an error or a different result.\n",
      "  return np.add.reduce(sorted[indexer] * weights, axis=axis) / sumval\n"
     ]
    },
    {
     "data": {
      "image/png": "[encoded data removed]",
      "text/plain": [
       "<Figure size 432x432 with 1 Axes>"
      ]
     },
     "metadata": {},
     "output_type": "display_data"
    }
   ],
   "source": [
    "# Item_Weight distribution\n",
    "plt.figure(figsize = (6,6))\n",
    "sns.distplot(big_mart_data['Item_Weight'])\n",
    "plt.show()"
   ]
  },
  {
   "cell_type": "code",
   "execution_count": 19,
   "metadata": {},
   "outputs": [
    {
     "data": {
      "image/png": "[encoded data removed]",
      "text/plain": [
       "<Figure size 432x432 with 1 Axes>"
      ]
     },
     "metadata": {},
     "output_type": "display_data"
    }
   ],
   "source": [
    "# Item_Weight visibility\n",
    "plt.figure(figsize = (6,6))\n",
    "sns.distplot(big_mart_data['Item_Visibility'])\n",
    "plt.show()"
   ]
  },
  {
   "cell_type": "code",
   "execution_count": 20,
   "metadata": {},
   "outputs": [
    {
     "data": {
      "image/png": "[encoded data removed]",
      "text/plain": [
       "<Figure size 432x432 with 1 Axes>"
      ]
     },
     "metadata": {},
     "output_type": "display_data"
    }
   ],
   "source": [
    "# Item_Weight MRP\n",
    "plt.figure(figsize = (6,6))\n",
    "sns.distplot(big_mart_data['Item_MRP'])\n",
    "plt.show()"
   ]
  },
  {
   "cell_type": "code",
   "execution_count": 21,
   "metadata": {},
   "outputs": [
    {
     "data": {
      "image/png": "[encoded data removed]",
      "text/plain": [
       "<Figure size 432x432 with 1 Axes>"
      ]
     },
     "metadata": {},
     "output_type": "display_data"
    }
   ],
   "source": [
    "# Item_Outlet_Sales distribution\n",
    "plt.figure(figsize = (6,6))\n",
    "sns.distplot(big_mart_data['Item_Outlet_Sales'])\n",
    "plt.show()"
   ]
  },
  {
   "cell_type": "code",
   "execution_count": 22,
   "metadata": {
    "scrolled": true
   },
   "outputs": [
    {
     "data": {
      "image/png": "[encoded data removed]",
      "text/plain": [
       "<Figure size 432x432 with 1 Axes>"
      ]
     },
     "metadata": {},
     "output_type": "display_data"
    }
   ],
   "source": [
    "# Outlet_Establishment_Year column\n",
    "plt.figure(figsize = (6,6))\n",
    "sns.countplot(x = 'Outlet_Establishment_Year', data = big_mart_data)\n",
    "plt.show()"
   ]
  },
  {
   "cell_type": "markdown",
   "metadata": {},
   "source": [
    "# Categorical features"
   ]
  },
  {
   "cell_type": "code",
   "execution_count": 23,
   "metadata": {},
   "outputs": [
    {
     "data": {
      "image/png": "[encoded data removed]",
      "text/plain": [
       "<Figure size 432x432 with 1 Axes>"
      ]
     },
     "metadata": {},
     "output_type": "display_data"
    }
   ],
   "source": [
    "# Outlet_Establishment_Year column\n",
    "plt.figure(figsize = (6,6))\n",
    "sns.countplot(x = 'Item_Fat_Content', data = big_mart_data)\n",
    "plt.show() # shows data must be cleaned"
   ]
  },
  {
   "cell_type": "code",
   "execution_count": 24,
   "metadata": {},
   "outputs": [
    {
     "data": {
      "image/png": "[encoded data removed]",
      "text/plain": [
       "<Figure size 1800x432 with 1 Axes>"
      ]
     },
     "metadata": {},
     "output_type": "display_data"
    }
   ],
   "source": [
    "# Outlet_Establishment_Year column\n",
    "plt.figure(figsize = (25,6))\n",
    "sns.countplot(x = 'Item_Type', data = big_mart_data)\n",
    "plt.show() # shows data must be cleaned"
   ]
  },
  {
   "cell_type": "code",
   "execution_count": 25,
   "metadata": {},
   "outputs": [
    {
     "data": {
      "image/png": "[encoded data removed]",
      "text/plain": [
       "<Figure size 1800x432 with 1 Axes>"
      ]
     },
     "metadata": {},
     "output_type": "display_data"
    }
   ],
   "source": [
    "# Outlet_Location_Type column\n",
    "plt.figure(figsize = (25,6))\n",
    "sns.countplot(x = 'Outlet_Location_Type', data = big_mart_data)\n",
    "plt.title(\"Item_Type count\")\n",
    "plt.show() # shows data must be cleaned"
   ]
  },
  {
   "cell_type": "markdown",
   "metadata": {},
   "source": [
    "# Data pre-processing"
   ]
  },
  {
   "cell_type": "code",
   "execution_count": 26,
   "metadata": {},
   "outputs": [
    {
     "data": {
      "text/html": [
       "<div>\n",
       "<style scoped>\n",
       "    .dataframe tbody tr th:only-of-type {\n",
       "        vertical-align: middle;\n",
       "    }\n",
       "\n",
       "    .dataframe tbody tr th {\n",
       "        vertical-align: top;\n",
       "    }\n",
       "\n",
       "    .dataframe thead th {\n",
       "        text-align: right;\n",
       "    }\n",
       "</style>\n",
       "<table border=\"1\" class=\"dataframe\">\n",
       "  <thead>\n",
       "    <tr style=\"text-align: right;\">\n",
       "      <th></th>\n",
       "      <th>Item_Identifier</th>\n",
       "      <th>Item_Weight</th>\n",
       "      <th>Item_Fat_Content</th>\n",
       "      <th>Item_Visibility</th>\n",
       "      <th>Item_Type</th>\n",
       "      <th>Item_MRP</th>\n",
       "      <th>Outlet_Identifier</th>\n",
       "      <th>Outlet_Establishment_Year</th>\n",
       "      <th>Outlet_Size</th>\n",
       "      <th>Outlet_Location_Type</th>\n",
       "      <th>Outlet_Type</th>\n",
       "      <th>Item_Outlet_Sales</th>\n",
       "    </tr>\n",
       "  </thead>\n",
       "  <tbody>\n",
       "    <tr>\n",
       "      <th>0</th>\n",
       "      <td>FDA15</td>\n",
       "      <td>9.30</td>\n",
       "      <td>Low Fat</td>\n",
       "      <td>0.016047</td>\n",
       "      <td>Dairy</td>\n",
       "      <td>249.8092</td>\n",
       "      <td>OUT049</td>\n",
       "      <td>1999</td>\n",
       "      <td>Medium</td>\n",
       "      <td>Tier 1</td>\n",
       "      <td>Supermarket Type1</td>\n",
       "      <td>3735.1380</td>\n",
       "    </tr>\n",
       "    <tr>\n",
       "      <th>1</th>\n",
       "      <td>DRC01</td>\n",
       "      <td>5.92</td>\n",
       "      <td>Regular</td>\n",
       "      <td>0.019278</td>\n",
       "      <td>Soft Drinks</td>\n",
       "      <td>48.2692</td>\n",
       "      <td>OUT018</td>\n",
       "      <td>2009</td>\n",
       "      <td>Medium</td>\n",
       "      <td>Tier 3</td>\n",
       "      <td>Supermarket Type2</td>\n",
       "      <td>443.4228</td>\n",
       "    </tr>\n",
       "    <tr>\n",
       "      <th>2</th>\n",
       "      <td>FDN15</td>\n",
       "      <td>17.50</td>\n",
       "      <td>Low Fat</td>\n",
       "      <td>0.016760</td>\n",
       "      <td>Meat</td>\n",
       "      <td>141.6180</td>\n",
       "      <td>OUT049</td>\n",
       "      <td>1999</td>\n",
       "      <td>Medium</td>\n",
       "      <td>Tier 1</td>\n",
       "      <td>Supermarket Type1</td>\n",
       "      <td>2097.2700</td>\n",
       "    </tr>\n",
       "    <tr>\n",
       "      <th>3</th>\n",
       "      <td>FDX07</td>\n",
       "      <td>19.20</td>\n",
       "      <td>Regular</td>\n",
       "      <td>0.000000</td>\n",
       "      <td>Fruits and Vegetables</td>\n",
       "      <td>182.0950</td>\n",
       "      <td>OUT010</td>\n",
       "      <td>1998</td>\n",
       "      <td>Outlet_Type Grocery Store Supermarket Type1 Su...</td>\n",
       "      <td>Tier 3</td>\n",
       "      <td>Grocery Store</td>\n",
       "      <td>732.3800</td>\n",
       "    </tr>\n",
       "    <tr>\n",
       "      <th>4</th>\n",
       "      <td>NCD19</td>\n",
       "      <td>8.93</td>\n",
       "      <td>Low Fat</td>\n",
       "      <td>0.000000</td>\n",
       "      <td>Household</td>\n",
       "      <td>53.8614</td>\n",
       "      <td>OUT013</td>\n",
       "      <td>1987</td>\n",
       "      <td>High</td>\n",
       "      <td>Tier 3</td>\n",
       "      <td>Supermarket Type1</td>\n",
       "      <td>994.7052</td>\n",
       "    </tr>\n",
       "  </tbody>\n",
       "</table>\n",
       "</div>"
      ],
      "text/plain": [
       "  Item_Identifier  Item_Weight Item_Fat_Content  Item_Visibility  \\\n",
       "0           FDA15         9.30          Low Fat         0.016047   \n",
       "1           DRC01         5.92          Regular         0.019278   \n",
       "2           FDN15        17.50          Low Fat         0.016760   \n",
       "3           FDX07        19.20          Regular         0.000000   \n",
       "4           NCD19         8.93          Low Fat         0.000000   \n",
       "\n",
       "               Item_Type  Item_MRP Outlet_Identifier  \\\n",
       "0                  Dairy  249.8092            OUT049   \n",
       "1            Soft Drinks   48.2692            OUT018   \n",
       "2                   Meat  141.6180            OUT049   \n",
       "3  Fruits and Vegetables  182.0950            OUT010   \n",
       "4              Household   53.8614            OUT013   \n",
       "\n",
       "   Outlet_Establishment_Year  \\\n",
       "0                       1999   \n",
       "1                       2009   \n",
       "2                       1999   \n",
       "3                       1998   \n",
       "4                       1987   \n",
       "\n",
       "                                         Outlet_Size Outlet_Location_Type  \\\n",
       "0                                             Medium               Tier 1   \n",
       "1                                             Medium               Tier 3   \n",
       "2                                             Medium               Tier 1   \n",
       "3  Outlet_Type Grocery Store Supermarket Type1 Su...               Tier 3   \n",
       "4                                               High               Tier 3   \n",
       "\n",
       "         Outlet_Type  Item_Outlet_Sales  \n",
       "0  Supermarket Type1          3735.1380  \n",
       "1  Supermarket Type2           443.4228  \n",
       "2  Supermarket Type1          2097.2700  \n",
       "3      Grocery Store           732.3800  \n",
       "4  Supermarket Type1           994.7052  "
      ]
     },
     "execution_count": 26,
     "metadata": {},
     "output_type": "execute_result"
    }
   ],
   "source": [
    "big_mart_data.head()"
   ]
  },
  {
   "cell_type": "code",
   "execution_count": 27,
   "metadata": {},
   "outputs": [
    {
     "data": {
      "text/plain": [
       "Low Fat    5089\n",
       "Regular    2889\n",
       "LF          316\n",
       "reg         117\n",
       "low fat     112\n",
       "Name: Item_Fat_Content, dtype: int64"
      ]
     },
     "execution_count": 27,
     "metadata": {},
     "output_type": "execute_result"
    }
   ],
   "source": [
    "big_mart_data['Item_Fat_Content'].value_counts()"
   ]
  },
  {
   "cell_type": "code",
   "execution_count": 28,
   "metadata": {},
   "outputs": [],
   "source": [
    "big_mart_data.replace({'Item_Fat_Content': {'low fat': 'Low Fat', 'LF':'Low Fat', 'reg':'Regular'}}, inplace=True)"
   ]
  },
  {
   "cell_type": "code",
   "execution_count": 29,
   "metadata": {},
   "outputs": [
    {
     "data": {
      "text/plain": [
       "Low Fat    5517\n",
       "Regular    3006\n",
       "Name: Item_Fat_Content, dtype: int64"
      ]
     },
     "execution_count": 29,
     "metadata": {},
     "output_type": "execute_result"
    }
   ],
   "source": [
    "big_mart_data['Item_Fat_Content'].value_counts()"
   ]
  },
  {
   "cell_type": "markdown",
   "metadata": {},
   "source": [
    "# Label encoding\n",
    "\n",
    "Label Encoding refers to converting the labels into numeric form so as to convert it into the machine-readable form"
   ]
  },
  {
   "cell_type": "code",
   "execution_count": 30,
   "metadata": {},
   "outputs": [],
   "source": [
    "encoder = LabelEncoder()"
   ]
  },
  {
   "cell_type": "code",
   "execution_count": 31,
   "metadata": {},
   "outputs": [
    {
     "data": {
      "text/plain": [
       "Index(['Item_Identifier', 'Item_Weight', 'Item_Fat_Content', 'Item_Visibility',\n",
       "       'Item_Type', 'Item_MRP', 'Outlet_Identifier',\n",
       "       'Outlet_Establishment_Year', 'Outlet_Size', 'Outlet_Location_Type',\n",
       "       'Outlet_Type', 'Item_Outlet_Sales'],\n",
       "      dtype='object')"
      ]
     },
     "execution_count": 31,
     "metadata": {},
     "output_type": "execute_result"
    }
   ],
   "source": [
    "big_mart_data.columns"
   ]
  },
  {
   "cell_type": "code",
   "execution_count": 32,
   "metadata": {},
   "outputs": [],
   "source": [
    "big_mart_data['Item_Identifier'] = encoder.fit_transform(big_mart_data['Item_Identifier'])\n",
    "big_mart_data['Item_Fat_Content'] = encoder.fit_transform(big_mart_data['Item_Fat_Content'])\n",
    "big_mart_data['Item_Type'] = encoder.fit_transform(big_mart_data['Item_Type'])\n",
    "big_mart_data['Outlet_Identifier'] = encoder.fit_transform(big_mart_data['Outlet_Identifier'])\n",
    "# big_mart_data['Outlet_Size'] = encoder.fit_transform(big_mart_data['Outlet_Size'])\n",
    "big_mart_data['Outlet_Location_Type'] = encoder.fit_transform(big_mart_data['Outlet_Location_Type'])\n",
    "big_mart_data['Outlet_Type'] = encoder.fit_transform(big_mart_data['Outlet_Type'])"
   ]
  },
  {
   "cell_type": "code",
   "execution_count": 33,
   "metadata": {},
   "outputs": [],
   "source": [
    "big_mart_data.drop(['Outlet_Size'], axis=1, inplace=True)"
   ]
  },
  {
   "cell_type": "markdown",
   "metadata": {},
   "source": [
    "## Splitting features and target"
   ]
  },
  {
   "cell_type": "code",
   "execution_count": 34,
   "metadata": {},
   "outputs": [],
   "source": [
    "X = big_mart_data.drop(columns=\"Item_Outlet_Sales\", axis=1)\n",
    "Y = big_mart_data['Item_Outlet_Sales']"
   ]
  },
  {
   "cell_type": "code",
   "execution_count": 35,
   "metadata": {},
   "outputs": [
    {
     "name": "stdout",
     "output_type": "stream",
     "text": [
      "      Item_Identifier  Item_Weight  Item_Fat_Content  Item_Visibility  \\\n",
      "0                 156     9.300000                 0         0.016047   \n",
      "1                   8     5.920000                 1         0.019278   \n",
      "2                 662    17.500000                 0         0.016760   \n",
      "3                1121    19.200000                 1         0.000000   \n",
      "4                1297     8.930000                 0         0.000000   \n",
      "5                 758    10.395000                 1         0.000000   \n",
      "6                 696    13.650000                 1         0.012741   \n",
      "7                 738    12.857645                 0         0.127470   \n",
      "8                 440    16.200000                 1         0.016687   \n",
      "9                 990    19.200000                 1         0.094450   \n",
      "10               1171    11.800000                 0         0.000000   \n",
      "11                147    18.500000                 1         0.045464   \n",
      "12               1142    15.100000                 1         0.100014   \n",
      "13                904    17.600000                 1         0.047257   \n",
      "14                375    16.350000                 0         0.068024   \n",
      "15                767     9.000000                 1         0.069089   \n",
      "16               1280    11.800000                 0         0.008596   \n",
      "17                767     9.000000                 1         0.069196   \n",
      "18                 79    12.857645                 0         0.034238   \n",
      "19                968    13.350000                 0         0.102492   \n",
      "20                666    18.850000                 1         0.138190   \n",
      "21               1076    12.857645                 1         0.035400   \n",
      "22               1278    14.600000                 0         0.025698   \n",
      "23                259    12.857645                 0         0.057557   \n",
      "24                843    13.850000                 1         0.025896   \n",
      "25               1294    13.000000                 0         0.099887   \n",
      "26               1024     7.645000                 1         0.066693   \n",
      "27                101    11.650000                 0         0.019356   \n",
      "28                350     5.925000                 1         0.161467   \n",
      "29                244    12.857645                 1         0.072222   \n",
      "...               ...          ...               ...              ...   \n",
      "8493              746     7.420000                 1         0.025886   \n",
      "8494             1350    15.200000                 0         0.000000   \n",
      "8495              330     9.695000                 0         0.029567   \n",
      "8496              540     7.420000                 1         0.021696   \n",
      "8497              922    13.650000                 0         0.049209   \n",
      "8498             1450    15.350000                 0         0.035293   \n",
      "8499             1373    11.600000                 0         0.037574   \n",
      "8500             1461    20.350000                 0         0.000000   \n",
      "8501             1083     5.340000                 1         0.005998   \n",
      "8502             1339     8.420000                 0         0.070712   \n",
      "8503              806    20.500000                 0         0.036133   \n",
      "8504             1410    12.857645                 0         0.124111   \n",
      "8505              224    10.500000                 1         0.094146   \n",
      "8506               45    17.250000                 0         0.084676   \n",
      "8507              671     5.880000                 1         0.030242   \n",
      "8508             1091    11.350000                 1         0.043246   \n",
      "8509              420     8.100000                 0         0.214306   \n",
      "8510              689    13.800000                 1         0.056862   \n",
      "8511              359    17.500000                 0         0.026980   \n",
      "8512              841    20.700000                 0         0.042801   \n",
      "8513              449    12.000000                 1         0.020407   \n",
      "8514              145    15.000000                 1         0.054489   \n",
      "8515              445    20.700000                 0         0.021518   \n",
      "8516             1356    18.600000                 0         0.118661   \n",
      "8517              389    20.750000                 1         0.083607   \n",
      "8518              370     6.865000                 0         0.056783   \n",
      "8519              897     8.380000                 1         0.046982   \n",
      "8520             1357    10.600000                 0         0.035186   \n",
      "8521              681     7.210000                 1         0.145221   \n",
      "8522               50    14.800000                 0         0.044878   \n",
      "\n",
      "      Item_Type  Item_MRP  Outlet_Identifier  Outlet_Establishment_Year  \\\n",
      "0             4  249.8092                  9                       1999   \n",
      "1            14   48.2692                  3                       2009   \n",
      "2            10  141.6180                  9                       1999   \n",
      "3             6  182.0950                  0                       1998   \n",
      "4             9   53.8614                  1                       1987   \n",
      "5             0   51.4008                  3                       2009   \n",
      "6            13   57.6588                  1                       1987   \n",
      "7            13  107.7622                  5                       1985   \n",
      "8             5   96.9726                  7                       2002   \n",
      "9             5  187.8214                  2                       2007   \n",
      "10            6   45.5402                  9                       1999   \n",
      "11            4  144.1102                  8                       1997   \n",
      "12            6  145.4786                  9                       1999   \n",
      "13           13  119.6782                  8                       1997   \n",
      "14            6  196.4426                  1                       1987   \n",
      "15            2   56.3614                  8                       1997   \n",
      "16            8  115.3492                  3                       2009   \n",
      "17            2   54.3614                  9                       1999   \n",
      "18            7  113.2834                  5                       1985   \n",
      "19            4  230.5352                  6                       2004   \n",
      "20           13  250.8724                  1                       1987   \n",
      "21            0  144.5444                  5                       1985   \n",
      "22            9  196.5084                  6                       2004   \n",
      "23            0  107.6938                  4                       1985   \n",
      "24            5  165.0210                  8                       1997   \n",
      "25            9   45.9060                  2                       2007   \n",
      "26           13   42.3112                  6                       2004   \n",
      "27            7   39.1164                  1                       1987   \n",
      "28            4   45.5086                  0                       1998   \n",
      "29            3   43.6454                  4                       1985   \n",
      "...         ...       ...                ...                        ...   \n",
      "8493         13  189.1872                  2                       2007   \n",
      "8494          9  110.4912                  2                       2007   \n",
      "8495         13  160.4920                  6                       2004   \n",
      "8496         12  185.3582                  2                       2007   \n",
      "8497          6  150.0050                  6                       2004   \n",
      "8498          9  124.5730                  3                       2009   \n",
      "8499          8  100.0042                  6                       2004   \n",
      "8500          9  125.1678                  2                       2007   \n",
      "8501         13  100.4358                  2                       2007   \n",
      "8502          9  216.4192                  7                       2002   \n",
      "8503          6  120.1756                  6                       2004   \n",
      "8504          9  111.7544                  5                       1985   \n",
      "8505         13  210.8244                  3                       2009   \n",
      "8506         14  263.1910                  3                       2009   \n",
      "8507          5  101.7990                  6                       2004   \n",
      "8508          6  199.4742                  7                       2002   \n",
      "8509          6  213.9902                  0                       1998   \n",
      "8510         13  231.5984                  6                       2004   \n",
      "8511          5  262.5910                  3                       2009   \n",
      "8512          4  178.3028                  1                       1987   \n",
      "8513         10   99.9042                  6                       2004   \n",
      "8514          3   57.5904                  7                       2002   \n",
      "8515          0  157.5288                  3                       2009   \n",
      "8516         11   58.7588                  3                       2009   \n",
      "8517          5  178.8318                  8                       1997   \n",
      "8518         13  214.5218                  1                       1987   \n",
      "8519          0  108.1570                  7                       2002   \n",
      "8520          8   85.1224                  6                       2004   \n",
      "8521         13  103.1332                  3                       2009   \n",
      "8522         14   75.4670                  8                       1997   \n",
      "\n",
      "      Outlet_Location_Type  Outlet_Type  \n",
      "0                        0            1  \n",
      "1                        2            2  \n",
      "2                        0            1  \n",
      "3                        2            0  \n",
      "4                        2            1  \n",
      "5                        2            2  \n",
      "6                        2            1  \n",
      "7                        2            3  \n",
      "8                        1            1  \n",
      "9                        1            1  \n",
      "10                       0            1  \n",
      "11                       0            1  \n",
      "12                       0            1  \n",
      "13                       0            1  \n",
      "14                       2            1  \n",
      "15                       0            1  \n",
      "16                       2            2  \n",
      "17                       0            1  \n",
      "18                       2            3  \n",
      "19                       1            1  \n",
      "20                       2            1  \n",
      "21                       2            3  \n",
      "22                       1            1  \n",
      "23                       0            0  \n",
      "24                       0            1  \n",
      "25                       1            1  \n",
      "26                       1            1  \n",
      "27                       2            1  \n",
      "28                       2            0  \n",
      "29                       0            0  \n",
      "...                    ...          ...  \n",
      "8493                     1            1  \n",
      "8494                     1            1  \n",
      "8495                     1            1  \n",
      "8496                     1            1  \n",
      "8497                     1            1  \n",
      "8498                     2            2  \n",
      "8499                     1            1  \n",
      "8500                     1            1  \n",
      "8501                     1            1  \n",
      "8502                     1            1  \n",
      "8503                     1            1  \n",
      "8504                     2            3  \n",
      "8505                     2            2  \n",
      "8506                     2            2  \n",
      "8507                     1            1  \n",
      "8508                     1            1  \n",
      "8509                     2            0  \n",
      "8510                     1            1  \n",
      "8511                     2            2  \n",
      "8512                     2            1  \n",
      "8513                     1            1  \n",
      "8514                     1            1  \n",
      "8515                     2            2  \n",
      "8516                     2            2  \n",
      "8517                     0            1  \n",
      "8518                     2            1  \n",
      "8519                     1            1  \n",
      "8520                     1            1  \n",
      "8521                     2            2  \n",
      "8522                     0            1  \n",
      "\n",
      "[8523 rows x 10 columns]\n"
     ]
    }
   ],
   "source": [
    "print(X)"
   ]
  },
  {
   "cell_type": "markdown",
   "metadata": {},
   "source": [
    "## Split into train and test data"
   ]
  },
  {
   "cell_type": "code",
   "execution_count": 36,
   "metadata": {},
   "outputs": [],
   "source": [
    "X_train, X_test, Y_train, Y_test = train_test_split(X, Y, test_size=0.2, random_state = 2)"
   ]
  },
  {
   "cell_type": "code",
   "execution_count": 37,
   "metadata": {},
   "outputs": [
    {
     "name": "stdout",
     "output_type": "stream",
     "text": [
      "(8523, 10) (6818, 10) (1705, 10)\n"
     ]
    }
   ],
   "source": [
    "print(X.shape, X_train.shape, X_test.shape)"
   ]
  },
  {
   "cell_type": "code",
   "execution_count": 38,
   "metadata": {},
   "outputs": [
    {
     "name": "stdout",
     "output_type": "stream",
     "text": [
      "<class 'pandas.core.frame.DataFrame'>\n",
      "RangeIndex: 8523 entries, 0 to 8522\n",
      "Data columns (total 11 columns):\n",
      "Item_Identifier              8523 non-null int64\n",
      "Item_Weight                  8523 non-null float64\n",
      "Item_Fat_Content             8523 non-null int64\n",
      "Item_Visibility              8523 non-null float64\n",
      "Item_Type                    8523 non-null int64\n",
      "Item_MRP                     8523 non-null float64\n",
      "Outlet_Identifier            8523 non-null int64\n",
      "Outlet_Establishment_Year    8523 non-null int64\n",
      "Outlet_Location_Type         8523 non-null int64\n",
      "Outlet_Type                  8523 non-null int64\n",
      "Item_Outlet_Sales            8523 non-null float64\n",
      "dtypes: float64(4), int64(7)\n",
      "memory usage: 732.5 KB\n"
     ]
    }
   ],
   "source": [
    "big_mart_data.info()"
   ]
  },
  {
   "cell_type": "markdown",
   "metadata": {},
   "source": [
    "## Machine model training. Use model = XGBoost regressor"
   ]
  },
  {
   "cell_type": "code",
   "execution_count": 39,
   "metadata": {},
   "outputs": [],
   "source": [
    "regressor = XGBRegressor()"
   ]
  },
  {
   "cell_type": "code",
   "execution_count": 51,
   "metadata": {},
   "outputs": [
    {
     "data": {
      "text/plain": [
       "XGBRegressor(base_score=0.5, booster='gbtree', colsample_bylevel=1,\n",
       "             colsample_bynode=1, colsample_bytree=1, gamma=0, gpu_id=-1,\n",
       "             importance_type='gain', interaction_constraints='',\n",
       "             learning_rate=0.300000012, max_delta_step=0, max_depth=6,\n",
       "             min_child_weight=1, missing=nan, monotone_constraints='()',\n",
       "             n_estimators=100, n_jobs=0, num_parallel_tree=1,\n",
       "             objective='reg:squarederror', random_state=0, reg_alpha=0,\n",
       "             reg_lambda=1, scale_pos_weight=1, subsample=1, tree_method='exact',\n",
       "             validate_parameters=1, verbosity=None)"
      ]
     },
     "execution_count": 51,
     "metadata": {},
     "output_type": "execute_result"
    }
   ],
   "source": [
    "regressor.fit(X_train, Y_train)"
   ]
  },
  {
   "cell_type": "markdown",
   "metadata": {},
   "source": [
    "# Evaluate Model"
   ]
  },
  {
   "cell_type": "code",
   "execution_count": 52,
   "metadata": {},
   "outputs": [],
   "source": [
    "# prediction on training data\n",
    "training_data_prediction = regressor.predict(X_train)"
   ]
  },
  {
   "cell_type": "code",
   "execution_count": 53,
   "metadata": {},
   "outputs": [],
   "source": [
    "# R squared value\n",
    "r2_train = metrics.r2_score(Y_train, training_data_prediction)"
   ]
  },
  {
   "cell_type": "code",
   "execution_count": 54,
   "metadata": {},
   "outputs": [
    {
     "name": "stdout",
     "output_type": "stream",
     "text": [
      "R Squared value = 0.8589562022805377\n"
     ]
    }
   ],
   "source": [
    "print('R Squared value =',r2_train)"
   ]
  },
  {
   "cell_type": "code",
   "execution_count": 55,
   "metadata": {},
   "outputs": [],
   "source": [
    "# prediction on testing data\n",
    "test_data_prediction = regressor.predict(X_test)"
   ]
  },
  {
   "cell_type": "code",
   "execution_count": 56,
   "metadata": {},
   "outputs": [],
   "source": [
    "# R squared value\n",
    "r2_test = metrics.r2_score(Y_test, test_data_prediction)"
   ]
  },
  {
   "cell_type": "code",
   "execution_count": 57,
   "metadata": {},
   "outputs": [
    {
     "name": "stdout",
     "output_type": "stream",
     "text": [
      "R Squared value = 0.5304668733144917\n"
     ]
    }
   ],
   "source": [
    "print('R Squared value =',r2_test)"
   ]
  },
  {
   "cell_type": "markdown",
   "metadata": {},
   "source": [
    "## r2_test very different from r2_train. The model might be overfitting"
   ]
  },
  {
   "cell_type": "code",
   "execution_count": null,
   "metadata": {},
   "outputs": [],
   "source": []
  }
 ],
 "metadata": {
  "kernelspec": {
   "display_name": "Python 3",
   "language": "python",
   "name": "python3"
  },
  "language_info": {
   "codemirror_mode": {
    "name": "ipython",
    "version": 3
   },
   "file_extension": ".py",
   "mimetype": "text/x-python",
   "name": "python",
   "nbconvert_exporter": "python",
   "pygments_lexer": "ipython3",
   "version": "3.5.2"
  }
 },
 "nbformat": 4,
 "nbformat_minor": 2
}
